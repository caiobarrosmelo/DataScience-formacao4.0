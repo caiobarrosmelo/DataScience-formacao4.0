{
 "cells": [
  {
   "cell_type": "markdown",
   "id": "df0f744d",
   "metadata": {},
   "source": [
    "# Conhecendo o Python\n",
    "\n",
    "Bem vindo ao estudo da linguagem Python\n",
    "\n",
    "Podemos usar fórmulas matemáticas com o Markdown\n",
    "\n",
    "$$ \\int_a^{b}\n",
    "---"
   ]
  },
  {
   "cell_type": "code",
   "execution_count": 53,
   "id": "e13e5569",
   "metadata": {},
   "outputs": [
    {
     "name": "stdout",
     "output_type": "stream",
     "text": [
      "x vale  1\n",
      "y vale  0.1234\n"
     ]
    }
   ],
   "source": [
    "x = 1\n",
    "y = 0.1234\n",
    "\n",
    "print(\"x vale \", x)\n",
    "print(\"y vale \", y)"
   ]
  },
  {
   "cell_type": "code",
   "execution_count": 54,
   "id": "b75c7682",
   "metadata": {},
   "outputs": [
    {
     "data": {
      "text/plain": [
       "1.1234"
      ]
     },
     "execution_count": 54,
     "metadata": {},
     "output_type": "execute_result"
    }
   ],
   "source": [
    "x+y"
   ]
  },
  {
   "cell_type": "code",
   "execution_count": 55,
   "id": "5278c010",
   "metadata": {},
   "outputs": [
    {
     "name": "stdout",
     "output_type": "stream",
     "text": [
      "Data Science\n"
     ]
    }
   ],
   "source": [
    "x = 'Data'\n",
    "y = 'Science'\n",
    "\n",
    "print(x,y)"
   ]
  },
  {
   "cell_type": "code",
   "execution_count": 56,
   "id": "9f70a2e1",
   "metadata": {},
   "outputs": [
    {
     "data": {
      "text/plain": [
       "2"
      ]
     },
     "execution_count": 56,
     "metadata": {},
     "output_type": "execute_result"
    }
   ],
   "source": [
    "True + True + False"
   ]
  },
  {
   "cell_type": "code",
   "execution_count": 57,
   "id": "a8891b6c",
   "metadata": {},
   "outputs": [],
   "source": [
    "None"
   ]
  },
  {
   "cell_type": "markdown",
   "id": "4a450a2d",
   "metadata": {},
   "source": [
    "## Conhecendo os tipos"
   ]
  },
  {
   "cell_type": "code",
   "execution_count": 58,
   "id": "b4f7ad55",
   "metadata": {},
   "outputs": [
    {
     "name": "stdout",
     "output_type": "stream",
     "text": [
      "<class 'float'>\n",
      "<class 'int'>\n",
      "<class 'list'>\n",
      "<class 'tuple'>\n",
      "<class 'set'>\n",
      "<class 'dict'>\n"
     ]
    }
   ],
   "source": [
    "teste = 1.00\n",
    "teste1 = 1\n",
    "teste2 = [1,2,3]\n",
    "teste3 = (1,2,3)\n",
    "teste4 = {1,2,3}\n",
    "teste5 = {'a':1, 'b':2, 'c':3}\n",
    "print(type(teste))\n",
    "print(type(teste1))\n",
    "print(type(teste2))\n",
    "print(type(teste3))\n",
    "print(type(teste4))\n",
    "print(type(teste5))\n"
   ]
  },
  {
   "cell_type": "code",
   "execution_count": 59,
   "id": "12e83261",
   "metadata": {},
   "outputs": [
    {
     "name": "stdout",
     "output_type": "stream",
     "text": [
      "<class 'float'>\n",
      "<class 'int'>\n",
      "<class 'list'>\n",
      "<class 'tuple'>\n",
      "<class 'set'>\n",
      "<class 'dict'>\n"
     ]
    }
   ],
   "source": [
    "for var in [teste, teste1, teste2, teste3, teste4, teste5]:\n",
    "    print(type(var))\n"
   ]
  },
  {
   "cell_type": "markdown",
   "id": "28487a4c",
   "metadata": {},
   "source": [
    "## Trabalhando com o Pandas"
   ]
  },
  {
   "cell_type": "code",
   "execution_count": 60,
   "id": "1cd09da5",
   "metadata": {},
   "outputs": [
    {
     "data": {
      "text/plain": [
       "0        3\n",
       "1        7\n",
       "2        5\n",
       "3        6\n",
       "4    teste\n",
       "5        8\n",
       "6      NaN\n",
       "dtype: object"
      ]
     },
     "execution_count": 60,
     "metadata": {},
     "output_type": "execute_result"
    }
   ],
   "source": [
    "import pandas as pd\n",
    "import numpy as np\n",
    "\n",
    "serie = pd.Series([3,7,5,6,\"teste\", 8, np.nan])\n",
    "serie\n"
   ]
  },
  {
   "cell_type": "code",
   "execution_count": 61,
   "id": "f5f7ef94",
   "metadata": {},
   "outputs": [
    {
     "data": {
      "text/plain": [
       "0    3\n",
       "1    7\n",
       "2    5\n",
       "dtype: object"
      ]
     },
     "execution_count": 61,
     "metadata": {},
     "output_type": "execute_result"
    }
   ],
   "source": [
    "serie.head(3)"
   ]
  },
  {
   "cell_type": "code",
   "execution_count": 62,
   "id": "00b2e8ae",
   "metadata": {},
   "outputs": [
    {
     "data": {
      "text/plain": [
       "5      8\n",
       "6    NaN\n",
       "dtype: object"
      ]
     },
     "execution_count": 62,
     "metadata": {},
     "output_type": "execute_result"
    }
   ],
   "source": [
    "serie.tail(2)"
   ]
  },
  {
   "cell_type": "code",
   "execution_count": 63,
   "id": "aabd09b3",
   "metadata": {},
   "outputs": [
    {
     "data": {
      "text/plain": [
       "dtype('O')"
      ]
     },
     "execution_count": 63,
     "metadata": {},
     "output_type": "execute_result"
    }
   ],
   "source": [
    "serie.dtype"
   ]
  },
  {
   "cell_type": "code",
   "execution_count": 64,
   "id": "1732a17a",
   "metadata": {},
   "outputs": [
    {
     "data": {
      "text/plain": [
       "RangeIndex(start=0, stop=7, step=1)"
      ]
     },
     "execution_count": 64,
     "metadata": {},
     "output_type": "execute_result"
    }
   ],
   "source": [
    "serie.index"
   ]
  },
  {
   "cell_type": "code",
   "execution_count": 65,
   "id": "cca7cdcc",
   "metadata": {},
   "outputs": [
    {
     "data": {
      "text/plain": [
       "0    False\n",
       "1    False\n",
       "2    False\n",
       "3    False\n",
       "4    False\n",
       "5    False\n",
       "6     True\n",
       "dtype: bool"
      ]
     },
     "execution_count": 65,
     "metadata": {},
     "output_type": "execute_result"
    }
   ],
   "source": [
    "serie.isnull()"
   ]
  },
  {
   "cell_type": "code",
   "execution_count": 66,
   "id": "b7b9a0ba",
   "metadata": {},
   "outputs": [
    {
     "data": {
      "text/plain": [
       "6    NaN\n",
       "dtype: object"
      ]
     },
     "execution_count": 66,
     "metadata": {},
     "output_type": "execute_result"
    }
   ],
   "source": [
    "serie[serie.isnull()]"
   ]
  },
  {
   "cell_type": "code",
   "execution_count": 67,
   "id": "ca5ebfeb",
   "metadata": {},
   "outputs": [
    {
     "data": {
      "text/plain": [
       "3        1\n",
       "7        1\n",
       "5        1\n",
       "6        1\n",
       "teste    1\n",
       "8        1\n",
       "Name: count, dtype: int64"
      ]
     },
     "execution_count": 67,
     "metadata": {},
     "output_type": "execute_result"
    }
   ],
   "source": [
    "serie.value_counts()"
   ]
  },
  {
   "cell_type": "code",
   "execution_count": 71,
   "id": "af83cecd",
   "metadata": {},
   "outputs": [],
   "source": [
    "data_int = pd.date_range(\"2025-01-01\", periods=6, freq=\"ME\")"
   ]
  },
  {
   "cell_type": "code",
   "execution_count": 73,
   "id": "d2f80c94",
   "metadata": {},
   "outputs": [
    {
     "data": {
      "text/plain": [
       "Index(['31/01/2025', '28/02/2025', '31/03/2025', '30/04/2025', '31/05/2025',\n",
       "       '30/06/2025'],\n",
       "      dtype='object')"
      ]
     },
     "execution_count": 73,
     "metadata": {},
     "output_type": "execute_result"
    }
   ],
   "source": [
    "data_br = data_int.strftime(\"%d/%m/%Y\")\n",
    "\n",
    "data_br"
   ]
  },
  {
   "cell_type": "code",
   "execution_count": 74,
   "id": "d5a6d44c",
   "metadata": {},
   "outputs": [
    {
     "data": {
      "text/plain": [
       "str"
      ]
     },
     "execution_count": 74,
     "metadata": {},
     "output_type": "execute_result"
    }
   ],
   "source": [
    "type(data_br[0])"
   ]
  },
  {
   "cell_type": "code",
   "execution_count": 77,
   "id": "2e27390d",
   "metadata": {},
   "outputs": [
    {
     "data": {
      "application/vnd.microsoft.datawrangler.viewer.v0+json": {
       "columns": [
        {
         "name": "index",
         "rawType": "object",
         "type": "string"
        },
        {
         "name": "A",
         "rawType": "int32",
         "type": "integer"
        },
        {
         "name": "B",
         "rawType": "int32",
         "type": "integer"
        },
        {
         "name": "C",
         "rawType": "int32",
         "type": "integer"
        },
        {
         "name": "D",
         "rawType": "int32",
         "type": "integer"
        }
       ],
       "conversionMethod": "pd.DataFrame",
       "ref": "7a5a61ba-f1b3-4253-851a-6d98182737f7",
       "rows": [
        [
         "31/01/2025",
         "4",
         "3",
         "3",
         "1"
        ],
        [
         "28/02/2025",
         "2",
         "1",
         "3",
         "4"
        ],
        [
         "31/03/2025",
         "4",
         "4",
         "2",
         "3"
        ],
        [
         "30/04/2025",
         "1",
         "3",
         "1",
         "2"
        ],
        [
         "31/05/2025",
         "4",
         "2",
         "1",
         "1"
        ],
        [
         "30/06/2025",
         "4",
         "4",
         "1",
         "3"
        ]
       ],
       "shape": {
        "columns": 4,
        "rows": 6
       }
      },
      "text/html": [
       "<div>\n",
       "<style scoped>\n",
       "    .dataframe tbody tr th:only-of-type {\n",
       "        vertical-align: middle;\n",
       "    }\n",
       "\n",
       "    .dataframe tbody tr th {\n",
       "        vertical-align: top;\n",
       "    }\n",
       "\n",
       "    .dataframe thead th {\n",
       "        text-align: right;\n",
       "    }\n",
       "</style>\n",
       "<table border=\"1\" class=\"dataframe\">\n",
       "  <thead>\n",
       "    <tr style=\"text-align: right;\">\n",
       "      <th></th>\n",
       "      <th>A</th>\n",
       "      <th>B</th>\n",
       "      <th>C</th>\n",
       "      <th>D</th>\n",
       "    </tr>\n",
       "  </thead>\n",
       "  <tbody>\n",
       "    <tr>\n",
       "      <th>31/01/2025</th>\n",
       "      <td>4</td>\n",
       "      <td>3</td>\n",
       "      <td>3</td>\n",
       "      <td>1</td>\n",
       "    </tr>\n",
       "    <tr>\n",
       "      <th>28/02/2025</th>\n",
       "      <td>2</td>\n",
       "      <td>1</td>\n",
       "      <td>3</td>\n",
       "      <td>4</td>\n",
       "    </tr>\n",
       "    <tr>\n",
       "      <th>31/03/2025</th>\n",
       "      <td>4</td>\n",
       "      <td>4</td>\n",
       "      <td>2</td>\n",
       "      <td>3</td>\n",
       "    </tr>\n",
       "    <tr>\n",
       "      <th>30/04/2025</th>\n",
       "      <td>1</td>\n",
       "      <td>3</td>\n",
       "      <td>1</td>\n",
       "      <td>2</td>\n",
       "    </tr>\n",
       "    <tr>\n",
       "      <th>31/05/2025</th>\n",
       "      <td>4</td>\n",
       "      <td>2</td>\n",
       "      <td>1</td>\n",
       "      <td>1</td>\n",
       "    </tr>\n",
       "    <tr>\n",
       "      <th>30/06/2025</th>\n",
       "      <td>4</td>\n",
       "      <td>4</td>\n",
       "      <td>1</td>\n",
       "      <td>3</td>\n",
       "    </tr>\n",
       "  </tbody>\n",
       "</table>\n",
       "</div>"
      ],
      "text/plain": [
       "            A  B  C  D\n",
       "31/01/2025  4  3  3  1\n",
       "28/02/2025  2  1  3  4\n",
       "31/03/2025  4  4  2  3\n",
       "30/04/2025  1  3  1  2\n",
       "31/05/2025  4  2  1  1\n",
       "30/06/2025  4  4  1  3"
      ]
     },
     "execution_count": 77,
     "metadata": {},
     "output_type": "execute_result"
    }
   ],
   "source": [
    "df = pd.DataFrame(\n",
    "    np.random.randint(1,5,size=(6,4)),\n",
    "    index=data_br,\n",
    "    columns=[\"A\", \"B\", \"C\", \"D\"])\n",
    "\n",
    "df"
   ]
  },
  {
   "cell_type": "code",
   "execution_count": 78,
   "id": "77b17316",
   "metadata": {},
   "outputs": [
    {
     "data": {
      "application/vnd.microsoft.datawrangler.viewer.v0+json": {
       "columns": [
        {
         "name": "index",
         "rawType": "object",
         "type": "string"
        },
        {
         "name": "A",
         "rawType": "int32",
         "type": "integer"
        },
        {
         "name": "B",
         "rawType": "int32",
         "type": "integer"
        },
        {
         "name": "C",
         "rawType": "int32",
         "type": "integer"
        },
        {
         "name": "D",
         "rawType": "int32",
         "type": "integer"
        }
       ],
       "conversionMethod": "pd.DataFrame",
       "ref": "66c67913-fcb6-43cb-9466-84304ad8f8f5",
       "rows": [
        [
         "31/01/2025",
         "4",
         "3",
         "3",
         "1"
        ],
        [
         "28/02/2025",
         "2",
         "1",
         "3",
         "4"
        ],
        [
         "31/03/2025",
         "4",
         "4",
         "2",
         "3"
        ]
       ],
       "shape": {
        "columns": 4,
        "rows": 3
       }
      },
      "text/html": [
       "<div>\n",
       "<style scoped>\n",
       "    .dataframe tbody tr th:only-of-type {\n",
       "        vertical-align: middle;\n",
       "    }\n",
       "\n",
       "    .dataframe tbody tr th {\n",
       "        vertical-align: top;\n",
       "    }\n",
       "\n",
       "    .dataframe thead th {\n",
       "        text-align: right;\n",
       "    }\n",
       "</style>\n",
       "<table border=\"1\" class=\"dataframe\">\n",
       "  <thead>\n",
       "    <tr style=\"text-align: right;\">\n",
       "      <th></th>\n",
       "      <th>A</th>\n",
       "      <th>B</th>\n",
       "      <th>C</th>\n",
       "      <th>D</th>\n",
       "    </tr>\n",
       "  </thead>\n",
       "  <tbody>\n",
       "    <tr>\n",
       "      <th>31/01/2025</th>\n",
       "      <td>4</td>\n",
       "      <td>3</td>\n",
       "      <td>3</td>\n",
       "      <td>1</td>\n",
       "    </tr>\n",
       "    <tr>\n",
       "      <th>28/02/2025</th>\n",
       "      <td>2</td>\n",
       "      <td>1</td>\n",
       "      <td>3</td>\n",
       "      <td>4</td>\n",
       "    </tr>\n",
       "    <tr>\n",
       "      <th>31/03/2025</th>\n",
       "      <td>4</td>\n",
       "      <td>4</td>\n",
       "      <td>2</td>\n",
       "      <td>3</td>\n",
       "    </tr>\n",
       "  </tbody>\n",
       "</table>\n",
       "</div>"
      ],
      "text/plain": [
       "            A  B  C  D\n",
       "31/01/2025  4  3  3  1\n",
       "28/02/2025  2  1  3  4\n",
       "31/03/2025  4  4  2  3"
      ]
     },
     "execution_count": 78,
     "metadata": {},
     "output_type": "execute_result"
    }
   ],
   "source": [
    "df.head(3)"
   ]
  },
  {
   "cell_type": "code",
   "execution_count": 80,
   "id": "28a1b66e",
   "metadata": {},
   "outputs": [
    {
     "data": {
      "application/vnd.microsoft.datawrangler.viewer.v0+json": {
       "columns": [
        {
         "name": "index",
         "rawType": "object",
         "type": "string"
        },
        {
         "name": "Coluna A",
         "rawType": "int32",
         "type": "integer"
        },
        {
         "name": "Coluna B",
         "rawType": "int32",
         "type": "integer"
        },
        {
         "name": "Coluna C",
         "rawType": "int32",
         "type": "integer"
        },
        {
         "name": "Coluna D",
         "rawType": "int32",
         "type": "integer"
        }
       ],
       "conversionMethod": "pd.DataFrame",
       "ref": "0e2dcc97-5d36-41b7-a76a-a8e02d3736a9",
       "rows": [
        [
         "31/01/2025",
         "4",
         "3",
         "3",
         "1"
        ],
        [
         "28/02/2025",
         "2",
         "1",
         "3",
         "4"
        ],
        [
         "31/03/2025",
         "4",
         "4",
         "2",
         "3"
        ],
        [
         "30/04/2025",
         "1",
         "3",
         "1",
         "2"
        ],
        [
         "31/05/2025",
         "4",
         "2",
         "1",
         "1"
        ],
        [
         "30/06/2025",
         "4",
         "4",
         "1",
         "3"
        ]
       ],
       "shape": {
        "columns": 4,
        "rows": 6
       }
      },
      "text/html": [
       "<div>\n",
       "<style scoped>\n",
       "    .dataframe tbody tr th:only-of-type {\n",
       "        vertical-align: middle;\n",
       "    }\n",
       "\n",
       "    .dataframe tbody tr th {\n",
       "        vertical-align: top;\n",
       "    }\n",
       "\n",
       "    .dataframe thead th {\n",
       "        text-align: right;\n",
       "    }\n",
       "</style>\n",
       "<table border=\"1\" class=\"dataframe\">\n",
       "  <thead>\n",
       "    <tr style=\"text-align: right;\">\n",
       "      <th></th>\n",
       "      <th>Coluna A</th>\n",
       "      <th>Coluna B</th>\n",
       "      <th>Coluna C</th>\n",
       "      <th>Coluna D</th>\n",
       "    </tr>\n",
       "  </thead>\n",
       "  <tbody>\n",
       "    <tr>\n",
       "      <th>31/01/2025</th>\n",
       "      <td>4</td>\n",
       "      <td>3</td>\n",
       "      <td>3</td>\n",
       "      <td>1</td>\n",
       "    </tr>\n",
       "    <tr>\n",
       "      <th>28/02/2025</th>\n",
       "      <td>2</td>\n",
       "      <td>1</td>\n",
       "      <td>3</td>\n",
       "      <td>4</td>\n",
       "    </tr>\n",
       "    <tr>\n",
       "      <th>31/03/2025</th>\n",
       "      <td>4</td>\n",
       "      <td>4</td>\n",
       "      <td>2</td>\n",
       "      <td>3</td>\n",
       "    </tr>\n",
       "    <tr>\n",
       "      <th>30/04/2025</th>\n",
       "      <td>1</td>\n",
       "      <td>3</td>\n",
       "      <td>1</td>\n",
       "      <td>2</td>\n",
       "    </tr>\n",
       "    <tr>\n",
       "      <th>31/05/2025</th>\n",
       "      <td>4</td>\n",
       "      <td>2</td>\n",
       "      <td>1</td>\n",
       "      <td>1</td>\n",
       "    </tr>\n",
       "    <tr>\n",
       "      <th>30/06/2025</th>\n",
       "      <td>4</td>\n",
       "      <td>4</td>\n",
       "      <td>1</td>\n",
       "      <td>3</td>\n",
       "    </tr>\n",
       "  </tbody>\n",
       "</table>\n",
       "</div>"
      ],
      "text/plain": [
       "            Coluna A  Coluna B  Coluna C  Coluna D\n",
       "31/01/2025         4         3         3         1\n",
       "28/02/2025         2         1         3         4\n",
       "31/03/2025         4         4         2         3\n",
       "30/04/2025         1         3         1         2\n",
       "31/05/2025         4         2         1         1\n",
       "30/06/2025         4         4         1         3"
      ]
     },
     "execution_count": 80,
     "metadata": {},
     "output_type": "execute_result"
    }
   ],
   "source": [
    "df.columns = [\"Coluna A\", \"Coluna B\", \"Coluna C\", \"Coluna D\"]\n",
    "df"
   ]
  },
  {
   "cell_type": "code",
   "execution_count": 85,
   "id": "45d2c195",
   "metadata": {},
   "outputs": [
    {
     "data": {
      "application/vnd.microsoft.datawrangler.viewer.v0+json": {
       "columns": [
        {
         "name": "index",
         "rawType": "object",
         "type": "string"
        },
        {
         "name": "Coluna A",
         "rawType": "int32",
         "type": "integer"
        },
        {
         "name": "Coluna B",
         "rawType": "int32",
         "type": "integer"
        },
        {
         "name": "Coluna C",
         "rawType": "int32",
         "type": "integer"
        },
        {
         "name": "Coluna D",
         "rawType": "int32",
         "type": "integer"
        },
        {
         "name": "Coluna5",
         "rawType": "int64",
         "type": "integer"
        },
        {
         "name": "Coluna E",
         "rawType": "int64",
         "type": "integer"
        }
       ],
       "conversionMethod": "pd.DataFrame",
       "ref": "d1490a1d-6a3b-48f9-981c-18e2781e1298",
       "rows": [
        [
         "31/01/2025",
         "4",
         "3",
         "3",
         "1",
         "1",
         "1"
        ],
        [
         "28/02/2025",
         "2",
         "1",
         "3",
         "4",
         "2",
         "2"
        ],
        [
         "31/03/2025",
         "4",
         "4",
         "2",
         "3",
         "3",
         "3"
        ],
        [
         "30/04/2025",
         "1",
         "3",
         "1",
         "2",
         "4",
         "4"
        ],
        [
         "31/05/2025",
         "4",
         "2",
         "1",
         "1",
         "5",
         "5"
        ],
        [
         "30/06/2025",
         "4",
         "4",
         "1",
         "3",
         "6",
         "6"
        ]
       ],
       "shape": {
        "columns": 6,
        "rows": 6
       }
      },
      "text/html": [
       "<div>\n",
       "<style scoped>\n",
       "    .dataframe tbody tr th:only-of-type {\n",
       "        vertical-align: middle;\n",
       "    }\n",
       "\n",
       "    .dataframe tbody tr th {\n",
       "        vertical-align: top;\n",
       "    }\n",
       "\n",
       "    .dataframe thead th {\n",
       "        text-align: right;\n",
       "    }\n",
       "</style>\n",
       "<table border=\"1\" class=\"dataframe\">\n",
       "  <thead>\n",
       "    <tr style=\"text-align: right;\">\n",
       "      <th></th>\n",
       "      <th>Coluna A</th>\n",
       "      <th>Coluna B</th>\n",
       "      <th>Coluna C</th>\n",
       "      <th>Coluna D</th>\n",
       "      <th>Coluna5</th>\n",
       "      <th>Coluna E</th>\n",
       "    </tr>\n",
       "  </thead>\n",
       "  <tbody>\n",
       "    <tr>\n",
       "      <th>31/01/2025</th>\n",
       "      <td>4</td>\n",
       "      <td>3</td>\n",
       "      <td>3</td>\n",
       "      <td>1</td>\n",
       "      <td>1</td>\n",
       "      <td>1</td>\n",
       "    </tr>\n",
       "    <tr>\n",
       "      <th>28/02/2025</th>\n",
       "      <td>2</td>\n",
       "      <td>1</td>\n",
       "      <td>3</td>\n",
       "      <td>4</td>\n",
       "      <td>2</td>\n",
       "      <td>2</td>\n",
       "    </tr>\n",
       "    <tr>\n",
       "      <th>31/03/2025</th>\n",
       "      <td>4</td>\n",
       "      <td>4</td>\n",
       "      <td>2</td>\n",
       "      <td>3</td>\n",
       "      <td>3</td>\n",
       "      <td>3</td>\n",
       "    </tr>\n",
       "    <tr>\n",
       "      <th>30/04/2025</th>\n",
       "      <td>1</td>\n",
       "      <td>3</td>\n",
       "      <td>1</td>\n",
       "      <td>2</td>\n",
       "      <td>4</td>\n",
       "      <td>4</td>\n",
       "    </tr>\n",
       "    <tr>\n",
       "      <th>31/05/2025</th>\n",
       "      <td>4</td>\n",
       "      <td>2</td>\n",
       "      <td>1</td>\n",
       "      <td>1</td>\n",
       "      <td>5</td>\n",
       "      <td>5</td>\n",
       "    </tr>\n",
       "    <tr>\n",
       "      <th>30/06/2025</th>\n",
       "      <td>4</td>\n",
       "      <td>4</td>\n",
       "      <td>1</td>\n",
       "      <td>3</td>\n",
       "      <td>6</td>\n",
       "      <td>6</td>\n",
       "    </tr>\n",
       "  </tbody>\n",
       "</table>\n",
       "</div>"
      ],
      "text/plain": [
       "            Coluna A  Coluna B  Coluna C  Coluna D  Coluna5  Coluna E\n",
       "31/01/2025         4         3         3         1        1         1\n",
       "28/02/2025         2         1         3         4        2         2\n",
       "31/03/2025         4         4         2         3        3         3\n",
       "30/04/2025         1         3         1         2        4         4\n",
       "31/05/2025         4         2         1         1        5         5\n",
       "30/06/2025         4         4         1         3        6         6"
      ]
     },
     "execution_count": 85,
     "metadata": {},
     "output_type": "execute_result"
    }
   ],
   "source": [
    "df['Coluna E'] = pd.Series([1,2,3,4,5,6], index=data_br)\n",
    "df\n"
   ]
  },
  {
   "cell_type": "code",
   "execution_count": 86,
   "id": "d310db4d",
   "metadata": {},
   "outputs": [
    {
     "data": {
      "application/vnd.microsoft.datawrangler.viewer.v0+json": {
       "columns": [
        {
         "name": "index",
         "rawType": "object",
         "type": "string"
        },
        {
         "name": "Coluna A",
         "rawType": "float64",
         "type": "float"
        },
        {
         "name": "Coluna B",
         "rawType": "float64",
         "type": "float"
        },
        {
         "name": "Coluna C",
         "rawType": "float64",
         "type": "float"
        },
        {
         "name": "Coluna D",
         "rawType": "float64",
         "type": "float"
        },
        {
         "name": "Coluna5",
         "rawType": "float64",
         "type": "float"
        },
        {
         "name": "Coluna E",
         "rawType": "float64",
         "type": "float"
        }
       ],
       "conversionMethod": "pd.DataFrame",
       "ref": "5da7cc7b-a4dd-491e-a1e1-9c6cf3f9bf99",
       "rows": [
        [
         "count",
         "6.0",
         "6.0",
         "6.0",
         "6.0",
         "6.0",
         "6.0"
        ],
        [
         "mean",
         "3.1666666666666665",
         "2.8333333333333335",
         "1.8333333333333333",
         "2.3333333333333335",
         "3.5",
         "3.5"
        ],
        [
         "std",
         "1.3291601358251257",
         "1.1690451944500122",
         "0.9831920802501751",
         "1.2110601416389968",
         "1.8708286933869707",
         "1.8708286933869707"
        ],
        [
         "min",
         "1.0",
         "1.0",
         "1.0",
         "1.0",
         "1.0",
         "1.0"
        ],
        [
         "25%",
         "2.5",
         "2.25",
         "1.0",
         "1.25",
         "2.25",
         "2.25"
        ],
        [
         "50%",
         "4.0",
         "3.0",
         "1.5",
         "2.5",
         "3.5",
         "3.5"
        ],
        [
         "75%",
         "4.0",
         "3.75",
         "2.75",
         "3.0",
         "4.75",
         "4.75"
        ],
        [
         "max",
         "4.0",
         "4.0",
         "3.0",
         "4.0",
         "6.0",
         "6.0"
        ]
       ],
       "shape": {
        "columns": 6,
        "rows": 8
       }
      },
      "text/html": [
       "<div>\n",
       "<style scoped>\n",
       "    .dataframe tbody tr th:only-of-type {\n",
       "        vertical-align: middle;\n",
       "    }\n",
       "\n",
       "    .dataframe tbody tr th {\n",
       "        vertical-align: top;\n",
       "    }\n",
       "\n",
       "    .dataframe thead th {\n",
       "        text-align: right;\n",
       "    }\n",
       "</style>\n",
       "<table border=\"1\" class=\"dataframe\">\n",
       "  <thead>\n",
       "    <tr style=\"text-align: right;\">\n",
       "      <th></th>\n",
       "      <th>Coluna A</th>\n",
       "      <th>Coluna B</th>\n",
       "      <th>Coluna C</th>\n",
       "      <th>Coluna D</th>\n",
       "      <th>Coluna5</th>\n",
       "      <th>Coluna E</th>\n",
       "    </tr>\n",
       "  </thead>\n",
       "  <tbody>\n",
       "    <tr>\n",
       "      <th>count</th>\n",
       "      <td>6.000000</td>\n",
       "      <td>6.000000</td>\n",
       "      <td>6.000000</td>\n",
       "      <td>6.000000</td>\n",
       "      <td>6.000000</td>\n",
       "      <td>6.000000</td>\n",
       "    </tr>\n",
       "    <tr>\n",
       "      <th>mean</th>\n",
       "      <td>3.166667</td>\n",
       "      <td>2.833333</td>\n",
       "      <td>1.833333</td>\n",
       "      <td>2.333333</td>\n",
       "      <td>3.500000</td>\n",
       "      <td>3.500000</td>\n",
       "    </tr>\n",
       "    <tr>\n",
       "      <th>std</th>\n",
       "      <td>1.329160</td>\n",
       "      <td>1.169045</td>\n",
       "      <td>0.983192</td>\n",
       "      <td>1.211060</td>\n",
       "      <td>1.870829</td>\n",
       "      <td>1.870829</td>\n",
       "    </tr>\n",
       "    <tr>\n",
       "      <th>min</th>\n",
       "      <td>1.000000</td>\n",
       "      <td>1.000000</td>\n",
       "      <td>1.000000</td>\n",
       "      <td>1.000000</td>\n",
       "      <td>1.000000</td>\n",
       "      <td>1.000000</td>\n",
       "    </tr>\n",
       "    <tr>\n",
       "      <th>25%</th>\n",
       "      <td>2.500000</td>\n",
       "      <td>2.250000</td>\n",
       "      <td>1.000000</td>\n",
       "      <td>1.250000</td>\n",
       "      <td>2.250000</td>\n",
       "      <td>2.250000</td>\n",
       "    </tr>\n",
       "    <tr>\n",
       "      <th>50%</th>\n",
       "      <td>4.000000</td>\n",
       "      <td>3.000000</td>\n",
       "      <td>1.500000</td>\n",
       "      <td>2.500000</td>\n",
       "      <td>3.500000</td>\n",
       "      <td>3.500000</td>\n",
       "    </tr>\n",
       "    <tr>\n",
       "      <th>75%</th>\n",
       "      <td>4.000000</td>\n",
       "      <td>3.750000</td>\n",
       "      <td>2.750000</td>\n",
       "      <td>3.000000</td>\n",
       "      <td>4.750000</td>\n",
       "      <td>4.750000</td>\n",
       "    </tr>\n",
       "    <tr>\n",
       "      <th>max</th>\n",
       "      <td>4.000000</td>\n",
       "      <td>4.000000</td>\n",
       "      <td>3.000000</td>\n",
       "      <td>4.000000</td>\n",
       "      <td>6.000000</td>\n",
       "      <td>6.000000</td>\n",
       "    </tr>\n",
       "  </tbody>\n",
       "</table>\n",
       "</div>"
      ],
      "text/plain": [
       "       Coluna A  Coluna B  Coluna C  Coluna D   Coluna5  Coluna E\n",
       "count  6.000000  6.000000  6.000000  6.000000  6.000000  6.000000\n",
       "mean   3.166667  2.833333  1.833333  2.333333  3.500000  3.500000\n",
       "std    1.329160  1.169045  0.983192  1.211060  1.870829  1.870829\n",
       "min    1.000000  1.000000  1.000000  1.000000  1.000000  1.000000\n",
       "25%    2.500000  2.250000  1.000000  1.250000  2.250000  2.250000\n",
       "50%    4.000000  3.000000  1.500000  2.500000  3.500000  3.500000\n",
       "75%    4.000000  3.750000  2.750000  3.000000  4.750000  4.750000\n",
       "max    4.000000  4.000000  3.000000  4.000000  6.000000  6.000000"
      ]
     },
     "execution_count": 86,
     "metadata": {},
     "output_type": "execute_result"
    }
   ],
   "source": [
    "df.describe()"
   ]
  },
  {
   "cell_type": "code",
   "execution_count": 87,
   "id": "8d311538",
   "metadata": {},
   "outputs": [
    {
     "data": {
      "application/vnd.microsoft.datawrangler.viewer.v0+json": {
       "columns": [
        {
         "name": "index",
         "rawType": "object",
         "type": "string"
        },
        {
         "name": "Coluna A",
         "rawType": "int32",
         "type": "integer"
        },
        {
         "name": "Coluna B",
         "rawType": "int32",
         "type": "integer"
        },
        {
         "name": "Coluna C",
         "rawType": "int32",
         "type": "integer"
        },
        {
         "name": "Coluna D",
         "rawType": "int32",
         "type": "integer"
        },
        {
         "name": "Coluna5",
         "rawType": "int64",
         "type": "integer"
        },
        {
         "name": "Coluna E",
         "rawType": "int64",
         "type": "integer"
        },
        {
         "name": "Coluna F",
         "rawType": "object",
         "type": "string"
        }
       ],
       "conversionMethod": "pd.DataFrame",
       "ref": "3adeb937-b6be-4b73-bc67-b69c0090fd51",
       "rows": [
        [
         "31/01/2025",
         "4",
         "3",
         "3",
         "1",
         "1",
         "1",
         "a"
        ],
        [
         "28/02/2025",
         "2",
         "1",
         "3",
         "4",
         "2",
         "2",
         "b"
        ],
        [
         "31/03/2025",
         "4",
         "4",
         "2",
         "3",
         "3",
         "3",
         "c"
        ],
        [
         "30/04/2025",
         "1",
         "3",
         "1",
         "2",
         "4",
         "4",
         "d"
        ],
        [
         "31/05/2025",
         "4",
         "2",
         "1",
         "1",
         "5",
         "5",
         "e"
        ],
        [
         "30/06/2025",
         "4",
         "4",
         "1",
         "3",
         "6",
         "6",
         "f"
        ]
       ],
       "shape": {
        "columns": 7,
        "rows": 6
       }
      },
      "text/html": [
       "<div>\n",
       "<style scoped>\n",
       "    .dataframe tbody tr th:only-of-type {\n",
       "        vertical-align: middle;\n",
       "    }\n",
       "\n",
       "    .dataframe tbody tr th {\n",
       "        vertical-align: top;\n",
       "    }\n",
       "\n",
       "    .dataframe thead th {\n",
       "        text-align: right;\n",
       "    }\n",
       "</style>\n",
       "<table border=\"1\" class=\"dataframe\">\n",
       "  <thead>\n",
       "    <tr style=\"text-align: right;\">\n",
       "      <th></th>\n",
       "      <th>Coluna A</th>\n",
       "      <th>Coluna B</th>\n",
       "      <th>Coluna C</th>\n",
       "      <th>Coluna D</th>\n",
       "      <th>Coluna5</th>\n",
       "      <th>Coluna E</th>\n",
       "      <th>Coluna F</th>\n",
       "    </tr>\n",
       "  </thead>\n",
       "  <tbody>\n",
       "    <tr>\n",
       "      <th>31/01/2025</th>\n",
       "      <td>4</td>\n",
       "      <td>3</td>\n",
       "      <td>3</td>\n",
       "      <td>1</td>\n",
       "      <td>1</td>\n",
       "      <td>1</td>\n",
       "      <td>a</td>\n",
       "    </tr>\n",
       "    <tr>\n",
       "      <th>28/02/2025</th>\n",
       "      <td>2</td>\n",
       "      <td>1</td>\n",
       "      <td>3</td>\n",
       "      <td>4</td>\n",
       "      <td>2</td>\n",
       "      <td>2</td>\n",
       "      <td>b</td>\n",
       "    </tr>\n",
       "    <tr>\n",
       "      <th>31/03/2025</th>\n",
       "      <td>4</td>\n",
       "      <td>4</td>\n",
       "      <td>2</td>\n",
       "      <td>3</td>\n",
       "      <td>3</td>\n",
       "      <td>3</td>\n",
       "      <td>c</td>\n",
       "    </tr>\n",
       "    <tr>\n",
       "      <th>30/04/2025</th>\n",
       "      <td>1</td>\n",
       "      <td>3</td>\n",
       "      <td>1</td>\n",
       "      <td>2</td>\n",
       "      <td>4</td>\n",
       "      <td>4</td>\n",
       "      <td>d</td>\n",
       "    </tr>\n",
       "    <tr>\n",
       "      <th>31/05/2025</th>\n",
       "      <td>4</td>\n",
       "      <td>2</td>\n",
       "      <td>1</td>\n",
       "      <td>1</td>\n",
       "      <td>5</td>\n",
       "      <td>5</td>\n",
       "      <td>e</td>\n",
       "    </tr>\n",
       "    <tr>\n",
       "      <th>30/06/2025</th>\n",
       "      <td>4</td>\n",
       "      <td>4</td>\n",
       "      <td>1</td>\n",
       "      <td>3</td>\n",
       "      <td>6</td>\n",
       "      <td>6</td>\n",
       "      <td>f</td>\n",
       "    </tr>\n",
       "  </tbody>\n",
       "</table>\n",
       "</div>"
      ],
      "text/plain": [
       "            Coluna A  Coluna B  Coluna C  Coluna D  Coluna5  Coluna E Coluna F\n",
       "31/01/2025         4         3         3         1        1         1        a\n",
       "28/02/2025         2         1         3         4        2         2        b\n",
       "31/03/2025         4         4         2         3        3         3        c\n",
       "30/04/2025         1         3         1         2        4         4        d\n",
       "31/05/2025         4         2         1         1        5         5        e\n",
       "30/06/2025         4         4         1         3        6         6        f"
      ]
     },
     "execution_count": 87,
     "metadata": {},
     "output_type": "execute_result"
    }
   ],
   "source": [
    "df['Coluna F'] = pd.Series(['a','b', 'c','d','e','f'], index=data_br)\n",
    "df"
   ]
  },
  {
   "cell_type": "code",
   "execution_count": 88,
   "id": "1c13b404",
   "metadata": {},
   "outputs": [
    {
     "name": "stdout",
     "output_type": "stream",
     "text": [
      "<class 'pandas.core.frame.DataFrame'>\n",
      "Index: 6 entries, 31/01/2025 to 30/06/2025\n",
      "Data columns (total 7 columns):\n",
      " #   Column    Non-Null Count  Dtype \n",
      "---  ------    --------------  ----- \n",
      " 0   Coluna A  6 non-null      int32 \n",
      " 1   Coluna B  6 non-null      int32 \n",
      " 2   Coluna C  6 non-null      int32 \n",
      " 3   Coluna D  6 non-null      int32 \n",
      " 4   Coluna5   6 non-null      int64 \n",
      " 5   Coluna E  6 non-null      int64 \n",
      " 6   Coluna F  6 non-null      object\n",
      "dtypes: int32(4), int64(2), object(1)\n",
      "memory usage: 460.0+ bytes\n"
     ]
    }
   ],
   "source": [
    "df.info()"
   ]
  },
  {
   "cell_type": "code",
   "execution_count": 91,
   "id": "96401436",
   "metadata": {},
   "outputs": [
    {
     "data": {
      "application/vnd.microsoft.datawrangler.viewer.v0+json": {
       "columns": [
        {
         "name": "index",
         "rawType": "object",
         "type": "string"
        },
        {
         "name": "Coluna F",
         "rawType": "object",
         "type": "unknown"
        }
       ],
       "conversionMethod": "pd.DataFrame",
       "ref": "6dcba670-29e5-492f-9af6-5f830044b604",
       "rows": [
        [
         "count",
         "6"
        ],
        [
         "unique",
         "6"
        ],
        [
         "top",
         "a"
        ],
        [
         "freq",
         "1"
        ]
       ],
       "shape": {
        "columns": 1,
        "rows": 4
       }
      },
      "text/html": [
       "<div>\n",
       "<style scoped>\n",
       "    .dataframe tbody tr th:only-of-type {\n",
       "        vertical-align: middle;\n",
       "    }\n",
       "\n",
       "    .dataframe tbody tr th {\n",
       "        vertical-align: top;\n",
       "    }\n",
       "\n",
       "    .dataframe thead th {\n",
       "        text-align: right;\n",
       "    }\n",
       "</style>\n",
       "<table border=\"1\" class=\"dataframe\">\n",
       "  <thead>\n",
       "    <tr style=\"text-align: right;\">\n",
       "      <th></th>\n",
       "      <th>Coluna F</th>\n",
       "    </tr>\n",
       "  </thead>\n",
       "  <tbody>\n",
       "    <tr>\n",
       "      <th>count</th>\n",
       "      <td>6</td>\n",
       "    </tr>\n",
       "    <tr>\n",
       "      <th>unique</th>\n",
       "      <td>6</td>\n",
       "    </tr>\n",
       "    <tr>\n",
       "      <th>top</th>\n",
       "      <td>a</td>\n",
       "    </tr>\n",
       "    <tr>\n",
       "      <th>freq</th>\n",
       "      <td>1</td>\n",
       "    </tr>\n",
       "  </tbody>\n",
       "</table>\n",
       "</div>"
      ],
      "text/plain": [
       "       Coluna F\n",
       "count         6\n",
       "unique        6\n",
       "top           a\n",
       "freq          1"
      ]
     },
     "execution_count": 91,
     "metadata": {},
     "output_type": "execute_result"
    }
   ],
   "source": [
    "df.describe(include='O')"
   ]
  },
  {
   "cell_type": "code",
   "execution_count": null,
   "id": "09161394",
   "metadata": {},
   "outputs": [],
   "source": []
  }
 ],
 "metadata": {
  "kernelspec": {
   "display_name": ".venv",
   "language": "python",
   "name": "python3"
  },
  "language_info": {
   "codemirror_mode": {
    "name": "ipython",
    "version": 3
   },
   "file_extension": ".py",
   "mimetype": "text/x-python",
   "name": "python",
   "nbconvert_exporter": "python",
   "pygments_lexer": "ipython3",
   "version": "3.12.10"
  }
 },
 "nbformat": 4,
 "nbformat_minor": 5
}
